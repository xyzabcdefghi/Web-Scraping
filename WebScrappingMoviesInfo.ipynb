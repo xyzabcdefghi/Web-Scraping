{
  "nbformat": 4,
  "nbformat_minor": 0,
  "metadata": {
    "colab": {
      "provenance": []
    },
    "kernelspec": {
      "name": "python3",
      "display_name": "Python 3"
    },
    "language_info": {
      "name": "python"
    }
  },
  "cells": [
    {
      "cell_type": "markdown",
      "source": [
        "# **FOR ONE MOVIE**"
      ],
      "metadata": {
        "id": "jcWRjXscEpDl"
      }
    },
    {
      "cell_type": "code",
      "execution_count": null,
      "metadata": {
        "id": "IH2c9e0V4uQT"
      },
      "outputs": [],
      "source": [
        "import requests\n",
        "from bs4 import BeautifulSoup\n",
        "import re"
      ]
    },
    {
      "cell_type": "markdown",
      "source": [
        "**GET REQUEST AND CREATE BEATIFULSOUP OBJECT**"
      ],
      "metadata": {
        "id": "EXhtWcNNCKDY"
      }
    },
    {
      "cell_type": "code",
      "source": [
        "r = requests.get(\"https://en.wikipedia.org/wiki/Jawan_(film)\")\n",
        "print(r)\n",
        "soup = BeautifulSoup(r.content)\n",
        "\n",
        "contents = soup.prettify()\n",
        "print(contents)"
      ],
      "metadata": {
        "id": "qkRQRUgcBCJu"
      },
      "execution_count": null,
      "outputs": []
    },
    {
      "cell_type": "markdown",
      "source": [
        "**FIND TABLE INFO**"
      ],
      "metadata": {
        "id": "5epcqFfvClF0"
      }
    },
    {
      "cell_type": "code",
      "source": [
        "info_box = soup.find(class_=\"infobox vevent\")\n",
        "info_rows = info_box.find_all(\"tr\")\n",
        "for row in info_rows:\n",
        "     print(row.prettify())"
      ],
      "metadata": {
        "id": "C0FN2QBZBUod"
      },
      "execution_count": null,
      "outputs": []
    },
    {
      "cell_type": "markdown",
      "source": [
        "**EXTRACT MOVIE NAME**"
      ],
      "metadata": {
        "id": "gHj0W2umCrCR"
      }
    },
    {
      "cell_type": "code",
      "source": [
        "movie_name={}\n",
        "movie_name['title']=info_box.find(\"th\").text\n",
        "movie_name"
      ],
      "metadata": {
        "colab": {
          "base_uri": "https://localhost:8080/"
        },
        "id": "nlCTdU9yBYo3",
        "outputId": "e3acdb22-2c27-4df4-cb80-2f9dc37bb257"
      },
      "execution_count": null,
      "outputs": [
        {
          "output_type": "execute_result",
          "data": {
            "text/plain": [
              "{'title': 'Jawan'}"
            ]
          },
          "metadata": {},
          "execution_count": 28
        }
      ]
    },
    {
      "cell_type": "markdown",
      "source": [
        "**EXTRACT KEYS AND APPEND TO LIST**"
      ],
      "metadata": {
        "id": "fEDoK9qFCxYp"
      }
    },
    {
      "cell_type": "code",
      "source": [
        "movie_name_dict = {}\n",
        "content_key=[]\n",
        "\n",
        "for idx,i in enumerate(info_box.find_all(\"th\")):\n",
        "  if idx==0:\n",
        "    continue\n",
        "  else:\n",
        "    content_key.append(i.text)\n",
        "\n",
        "print(content_key)\n",
        "print(len(content_key))"
      ],
      "metadata": {
        "colab": {
          "base_uri": "https://localhost:8080/"
        },
        "id": "l92ROrcVBoPR",
        "outputId": "f8bf6a95-71aa-47ae-8c89-8e3027d8f18c"
      },
      "execution_count": null,
      "outputs": [
        {
          "output_type": "stream",
          "name": "stdout",
          "text": [
            "['Directed by', 'Screenplay by', 'Dialogues by', 'Story by', 'Produced by', 'Starring', 'Cinematography', 'Edited by', 'Music by', 'Productioncompany', 'Distributed by', 'Release date', 'Running time', 'Country', 'Language', 'Budget', 'Box office']\n",
            "17\n"
          ]
        }
      ]
    },
    {
      "cell_type": "markdown",
      "source": [
        "**EXTRACT VALUES AND APPEND TO LIST**"
      ],
      "metadata": {
        "id": "scsEesIrC9JB"
      }
    },
    {
      "cell_type": "code",
      "source": [
        "content_val=[]\n",
        "\n",
        "for idx,i in enumerate(info_box.find_all(\"td\")):\n",
        "  if idx==0 or i.text==\"\\n\":\n",
        "    continue\n",
        "  else:\n",
        "    content_val.append(i.text)\n",
        "\n",
        "print(content_val)\n",
        "print(len(content_val))"
      ],
      "metadata": {
        "colab": {
          "base_uri": "https://localhost:8080/"
        },
        "id": "wpIMUiuzBrwS",
        "outputId": "430f1298-a76b-4c65-f2fb-7bd5a242b4d5"
      },
      "execution_count": null,
      "outputs": [
        {
          "output_type": "stream",
          "name": "stdout",
          "text": [
            "['Atlee', 'AtleeS. Ramanagirivasan\\n', 'Sumit Arora', 'Atlee', 'Gauri KhanGaurav Verma', 'Shah Rukh Khan NayantharaVijay Sethupathi', 'G. K. Vishnu', 'Ruben', 'Anirudh Ravichander', 'Red Chillies Entertainment', 'see below', '\\n7\\xa0September\\xa02023\\xa0(2023-09-07)\\n', '169 minutes (Theatrical release)[1]', 'India', 'Hindi', '₹300 crore[2]', 'est. ₹1,148.32 crore[3]']\n",
            "17\n"
          ]
        }
      ]
    },
    {
      "cell_type": "markdown",
      "source": [
        "**MERGE KEYS LIST AND VALUES LIST INTO A DICTIONARY**"
      ],
      "metadata": {
        "id": "duY-WVBpDo-x"
      }
    },
    {
      "cell_type": "code",
      "source": [
        "movie_info=result_dict = dict(zip(content_key, content_val))\n",
        "movie_info\n"
      ],
      "metadata": {
        "colab": {
          "base_uri": "https://localhost:8080/"
        },
        "id": "UHC0cENsB0Nz",
        "outputId": "2592d3bd-0525-44ae-ce48-518651b490b9"
      },
      "execution_count": null,
      "outputs": [
        {
          "output_type": "execute_result",
          "data": {
            "text/plain": [
              "{'Directed by': 'Atlee',\n",
              " 'Screenplay by': 'AtleeS. Ramanagirivasan\\n',\n",
              " 'Dialogues by': 'Sumit Arora',\n",
              " 'Story by': 'Atlee',\n",
              " 'Produced by': 'Gauri KhanGaurav Verma',\n",
              " 'Starring': 'Shah Rukh Khan NayantharaVijay Sethupathi',\n",
              " 'Cinematography': 'G. K. Vishnu',\n",
              " 'Edited by': 'Ruben',\n",
              " 'Music by': 'Anirudh Ravichander',\n",
              " 'Productioncompany': 'Red Chillies Entertainment',\n",
              " 'Distributed by': 'see below',\n",
              " 'Release date': '\\n7\\xa0September\\xa02023\\xa0(2023-09-07)\\n',\n",
              " 'Running time': '169 minutes (Theatrical release)[1]',\n",
              " 'Country': 'India',\n",
              " 'Language': 'Hindi',\n",
              " 'Budget': '₹300 crore[2]',\n",
              " 'Box office': 'est. ₹1,148.32 crore[3]'}"
            ]
          },
          "metadata": {},
          "execution_count": 31
        }
      ]
    },
    {
      "cell_type": "markdown",
      "source": [
        "**COMBINE MOVIE_NAME DICTIONARY AND MOVIE_INFO DICTIONARY**"
      ],
      "metadata": {
        "id": "Nfv0lz_vFLuh"
      }
    },
    {
      "cell_type": "code",
      "source": [
        "movie_all_info={**movie_name,**movie_info}\n",
        "movie_all_info"
      ],
      "metadata": {
        "colab": {
          "base_uri": "https://localhost:8080/"
        },
        "id": "iWxp_2L6FqGH",
        "outputId": "1ad98bed-2d13-4ae1-93a3-4998848d9c1d"
      },
      "execution_count": null,
      "outputs": [
        {
          "output_type": "execute_result",
          "data": {
            "text/plain": [
              "{'title': 'Jawan',\n",
              " 'Directed by': 'Atlee',\n",
              " 'Screenplay by': 'AtleeS. Ramanagirivasan\\n',\n",
              " 'Dialogues by': 'Sumit Arora',\n",
              " 'Story by': 'Atlee',\n",
              " 'Produced by': 'Gauri KhanGaurav Verma',\n",
              " 'Starring': 'Shah Rukh Khan NayantharaVijay Sethupathi',\n",
              " 'Cinematography': 'G. K. Vishnu',\n",
              " 'Edited by': 'Ruben',\n",
              " 'Music by': 'Anirudh Ravichander',\n",
              " 'Productioncompany': 'Red Chillies Entertainment',\n",
              " 'Distributed by': 'see below',\n",
              " 'Release date': '\\n7\\xa0September\\xa02023\\xa0(2023-09-07)\\n',\n",
              " 'Running time': '169 minutes (Theatrical release)[1]',\n",
              " 'Country': 'India',\n",
              " 'Language': 'Hindi',\n",
              " 'Budget': '₹300 crore[2]',\n",
              " 'Box office': 'est. ₹1,148.32 crore[3]'}"
            ]
          },
          "metadata": {},
          "execution_count": 32
        }
      ]
    },
    {
      "cell_type": "markdown",
      "source": [
        "\n",
        "# **FOR ALL MOVIES IN THAT PAGE**\n"
      ],
      "metadata": {
        "id": "hquibU14EIwz"
      }
    },
    {
      "cell_type": "markdown",
      "source": [
        "**FUNCTIONS FOR STRING PROCESSSONG - RegEx**"
      ],
      "metadata": {
        "id": "xaF01iL9GKeu"
      }
    },
    {
      "cell_type": "code",
      "source": [
        "#FUNCTION 1\n",
        "from datetime import datetime\n",
        "\n",
        "def format_date(input_date):\n",
        "    # Define the correct regular expression pattern\n",
        "    pattern = r'(?P<day>\\d+)\\s(?P<month>\\w+)\\s(?P<year>\\d+)\\s\\((?P<inner_year>\\d+-\\d+-\\d+)\\)'\n",
        "    # Compile the corrected pattern\n",
        "    compiled_pattern = re.compile(pattern)\n",
        "    # Search for the pattern in the input date string\n",
        "    match = compiled_pattern.search(input_date)\n",
        "    if match:\n",
        "        # Extract components from the matched groups\n",
        "        day = match.group('day')\n",
        "        month = match.group('month')\n",
        "        year = match.group('year')\n",
        "        inner_year = match.group('inner_year')\n",
        "   # Form a datetime object for further processing if needed\n",
        "        formatted_datetime = datetime.strptime(inner_year, '%Y-%m-%d')\n",
        "        # Format the date in the desired format\n",
        "        formatted_date = formatted_datetime.strftime('%d %B %Y')\n",
        "        return formatted_date\n",
        "    else:\n",
        "        return None  # Return None if the pattern is not found\n",
        "#===========================================================================================================================\n",
        "\n",
        "#FUNCTION 2\n",
        "\n",
        "def extract_amount(input_string):\n",
        "    # Define a regular expression pattern to match the currency format\n",
        "    pattern = re.compile(r'est\\.[₹0-9,.–]+(\\s?crore)?|₹[0-9,.]+–[₹0-9,.]+(\\s?crore)?|₹[0-9,.]+(\\s?crore)?')\n",
        "    # Search for the pattern in the input string\n",
        "    match = pattern.search(input_string)\n",
        "\n",
        "    if match:\n",
        "        # Extract the matched portion\n",
        "        extracted_amount = match.group(0)\n",
        "\n",
        "        # Remove 'est.' part\n",
        "        extracted_amount = re.sub(r'est\\.', '', extracted_amount)\n",
        "\n",
        "        # Check if there is a range and calculate the average\n",
        "        range_match = re.search(r'₹([\\d,.]+)–[₹]?([\\d,.]+)?(\\s?crore)?', extracted_amount)\n",
        "        if range_match:\n",
        "            lower_limit = float(range_match.group(1).replace(',', ''))\n",
        "            upper_limit = float(range_match.group(2).replace(',', '')) if range_match.group(2) else lower_limit\n",
        "            average = (lower_limit + upper_limit) / 2\n",
        "            return f'₹{average} crore'\n",
        "        else:\n",
        "            return extracted_amount\n",
        "    else:\n",
        "        return None\n",
        "\n",
        "#===========================================================================================================================\n",
        "\n",
        "# FUNCTION 3\n",
        "\n",
        "def clean_tags(soup):\n",
        "  for tag in soup.find_all('sup'):\n",
        "    tag.decompose()\n",
        "#===========================================================================================================================\n",
        "\n",
        "# FUNCTION 4\n",
        "def extract_release_dates(release_dates_str):\n",
        "    dates = re.findall(r'\\b\\d{2}\\s*[A-Za-z]+\\s*\\d{4}\\b', release_dates_str)\n",
        "    return dates\n",
        "#===========================================================================================================================\n",
        "\n",
        "# FUNCTION 5\n",
        "\n",
        "\n",
        "def extract_datessss(input_string):\n",
        "    # Remove non-breaking space characters and extract the date components\n",
        "    cleaned_string = input_string.replace('\\xa0', ' ')\n",
        "    matches = re.findall(r'\\d+ \\w+ \\d+', cleaned_string)\n",
        "\n",
        "    if matches:\n",
        "        extracted_date = matches[0]\n",
        "        return extracted_date\n",
        "    else:\n",
        "        return None\n",
        "#===========================================================================================================================\n",
        "\n",
        "# FUNCTION 6\n",
        "def convert_running_time(running_time_str):\n",
        "    # Extract the first running time and convert it to an integer\n",
        "    match = re.search(r'\\b(\\d+)\\b', running_time_str)\n",
        "    if match:\n",
        "        return int(match.group(1))\n",
        "    else:\n",
        "        return None\n",
        "#===========================================================================================================================\n",
        "# FUNCTION 7\n",
        "\n",
        "def extract_dates_release_dates(input_str):\n",
        "\n",
        "    # Define a regular expression pattern to match the release dates\n",
        "    pattern = re.compile(r'(\\d{1,2}\\s?[a-zA-Z]+\\s?\\d{4})')\n",
        "\n",
        "    # Search for the pattern in the input string\n",
        "    matches = pattern.findall(input_str)\n",
        "\n",
        "    # Format the matched dates as required\n",
        "    formatted_dates = [re.sub(r'\\xa0', ' ', match) for match in matches]\n",
        "\n",
        "    return formatted_dates"
      ],
      "metadata": {
        "id": "uhUG3OfT5Gqp"
      },
      "execution_count": null,
      "outputs": []
    },
    {
      "cell_type": "markdown",
      "source": [
        "**FUNCTION THAT RETURNS DICTIONARY HAVING MOVIE_INFO**"
      ],
      "metadata": {
        "id": "wYXeXQkZGkEL"
      }
    },
    {
      "cell_type": "code",
      "source": [
        "movie_name_dict = {}\n",
        "movie_name={}\n",
        "\n",
        "# movie_info={}\n",
        "\n",
        "def get_info(url):\n",
        "  content_key=[]\n",
        "  values_list = []\n",
        "  resp = requests.get(url)\n",
        "  # print(resp)\n",
        "  soup = BeautifulSoup(resp.content)\n",
        "  clean_tags(soup)\n",
        "  info_box = soup.find(class_=\"infobox vevent\")\n",
        "#===========================================================================================================================\n",
        "  for idx,i in enumerate(info_box.find_all(\"th\")):\n",
        "    if idx==0 :\n",
        "      continue\n",
        "    else:\n",
        "      content_key.append(i.text.strip())\n",
        "\n",
        "#===========================================================================================================================\n",
        "  for idx,i in enumerate(info_box.find_all(\"td\")):\n",
        "    if idx==0 or i.text==\"\\n\":\n",
        "      continue\n",
        "    else:\n",
        "      values_list.append(i.text.strip())\n",
        "\n",
        "#===========================================================================================================================\n",
        "\n",
        "  movie_name['title']=info_box.find(\"th\").text\n",
        "  #movie_name\n",
        "#===========================================================================================================================\n",
        "\n",
        "  movie_info = {key: value for key, value in zip(content_key, values_list)}\n",
        "  movie_info={**movie_name,**movie_info}\n",
        "  # movie_info\n",
        "  return movie_info"
      ],
      "metadata": {
        "id": "uj9cAU2F5Yh0"
      },
      "execution_count": null,
      "outputs": []
    },
    {
      "cell_type": "markdown",
      "source": [
        "**COMBINE BASE_PATH AND RELATIVE_PATH AND GENERATE LINKS FOR ALL MOVIES IN THAT PAGE AND CREATE A LIST OF DICTIONARIES EACH HAVING MOVIE_INFO**"
      ],
      "metadata": {
        "id": "EDLQcLvuGyD6"
      }
    },
    {
      "cell_type": "code",
      "source": [
        "base_path='https://en.wikipedia.org/'\n",
        "movie_info_list=[]\n",
        "\n",
        "r = requests.get(\"https://en.wikipedia.org/wiki/List_of_Hindi_films_of_2023\")\n",
        "print(r)\n",
        "soup = BeautifulSoup(r.content)\n",
        "\n",
        "M=soup.select(\".wikitable.sortable i\")\n",
        "for idx, m in enumerate(M):\n",
        "    relative_path=m.a['href']\n",
        "    full_path=base_path+relative_path\n",
        "    title=m.a['title']\n",
        "    # print(relative_path)\n",
        "    # print(title)\n",
        "    print(full_path)\n",
        "    # print()\n",
        "    movie_info_list.append(get_info(full_path))\n"
      ],
      "metadata": {
        "colab": {
          "base_uri": "https://localhost:8080/"
        },
        "id": "PNquSi0K40g1",
        "outputId": "68b04f93-423e-4374-a644-00fc2d9293b5"
      },
      "execution_count": null,
      "outputs": [
        {
          "output_type": "stream",
          "name": "stdout",
          "text": [
            "<Response [200]>\n",
            "https://en.wikipedia.org//wiki/Jawan_(film)\n",
            "https://en.wikipedia.org//wiki/Pathaan_(film)\n",
            "https://en.wikipedia.org//wiki/Animal_(2023_film)\n",
            "https://en.wikipedia.org//wiki/Gadar_2\n",
            "https://en.wikipedia.org//wiki/Tiger_3\n",
            "https://en.wikipedia.org//wiki/Dunki_(film)\n",
            "https://en.wikipedia.org//wiki/Rocky_Aur_Rani_Kii_Prem_Kahaani\n",
            "https://en.wikipedia.org//wiki/Adipurush\n",
            "https://en.wikipedia.org//wiki/The_Kerala_Story\n",
            "https://en.wikipedia.org//wiki/OMG_2\n"
          ]
        }
      ]
    },
    {
      "cell_type": "markdown",
      "source": [
        "**DATA CLEANING => Call string processing functions defined above**"
      ],
      "metadata": {
        "id": "8J0R2XTCHQcm"
      }
    },
    {
      "cell_type": "code",
      "source": [
        "# Use format_date and extract_amount functions\n",
        "for movie_info in movie_info_list:\n",
        "    # Extract and format the release date\n",
        "    release_date = movie_info.get('Release date')\n",
        "    release_dates= movie_info.get('Release dates')\n",
        "    running_time=movie_info.get('Running time')\n",
        "\n",
        "    if release_date:\n",
        "       formatted_release_date = format_date(release_date)\n",
        "       movie_info['Release date'] = formatted_release_date\n",
        "\n",
        "    # Extract and format the budget amount and Box office amount\n",
        "    box_office=movie_info.get('Box office')\n",
        "    budget = movie_info.get('Budget')\n",
        "\n",
        "    formatted_budget = extract_amount(budget)\n",
        "    formatted_box_office= extract_amount(box_office)\n",
        "    formatted_running_time=convert_running_time(running_time)\n",
        "\n",
        "    for k,v in movie_info.items():\n",
        "       if k=='Budget' or k=='Box office':\n",
        "          uv=extract_amount(v)\n",
        "          movie_info[k]=uv\n",
        "\n",
        "    for k,v in movie_info.items():\n",
        "       if k=='Release dates':\n",
        "          updated_val=extract_dates_release_dates(v)\n",
        "          movie_info[k]=updated_val\n",
        "\n",
        "    movie_info['Budget'] = formatted_budget\n",
        "    movie_info['Box office'] = formatted_box_office\n",
        "    movie_info['Running time']=formatted_running_time\n",
        "\n",
        "    # # Print the updated dictionary\n",
        "    # print(movie_info)\n",
        "    # print(\"-\" * 50)\n"
      ],
      "metadata": {
        "id": "iNYIVbs2Alto"
      },
      "execution_count": null,
      "outputs": []
    },
    {
      "cell_type": "markdown",
      "source": [
        "**DISPLAY THE LIST OF DICTIONARIES**"
      ],
      "metadata": {
        "id": "tXbCEXpXHnXK"
      }
    },
    {
      "cell_type": "code",
      "source": [
        "movie_info_list"
      ],
      "metadata": {
        "colab": {
          "base_uri": "https://localhost:8080/"
        },
        "id": "IGirdA7iBWo1",
        "outputId": "b4acb5f8-342c-4197-fdd5-bb9f8ed5d7be"
      },
      "execution_count": null,
      "outputs": [
        {
          "output_type": "execute_result",
          "data": {
            "text/plain": [
              "[{'title': 'Jawan',\n",
              "  'Directed by': 'Atlee',\n",
              "  'Screenplay by': 'AtleeS. Ramanagirivasan',\n",
              "  'Dialogues by': 'Sumit Arora',\n",
              "  'Story by': 'Atlee',\n",
              "  'Produced by': 'Gauri KhanGaurav Verma',\n",
              "  'Starring': 'Shah Rukh Khan NayantharaVijay Sethupathi',\n",
              "  'Cinematography': 'G. K. Vishnu',\n",
              "  'Edited by': 'Ruben',\n",
              "  'Music by': 'Anirudh Ravichander',\n",
              "  'Productioncompany': 'Red Chillies Entertainment',\n",
              "  'Distributed by': 'see below',\n",
              "  'Release date': '07 September 2023',\n",
              "  'Running time': 169,\n",
              "  'Country': 'India',\n",
              "  'Language': 'Hindi',\n",
              "  'Budget': '₹300 crore',\n",
              "  'Box office': '₹1,148.32 crore'},\n",
              " {'title': 'Pathaan',\n",
              "  'Directed by': 'Siddharth Anand',\n",
              "  'Screenplay by': 'Shridhar Raghavan',\n",
              "  'Dialogues by': 'Abbas Tyrewala',\n",
              "  'Story by': 'Siddharth Anand',\n",
              "  'Produced by': 'Aditya Chopra',\n",
              "  'Starring': 'Shah Rukh Khan\\nDeepika Padukone\\nJohn Abraham\\nDimple Kapadia\\nAshutosh Rana',\n",
              "  'Cinematography': 'Satchith Paulose',\n",
              "  'Edited by': 'Aarif Sheikh',\n",
              "  'Music by': 'Score:Sanchit BalharaAnkit BalharaSongs:Vishal–Shekhar',\n",
              "  'Productioncompany': 'Yash Raj Films',\n",
              "  'Distributed by': 'Yash Raj Films',\n",
              "  'Release date': '25 January 2023',\n",
              "  'Running time': 146,\n",
              "  'Country': 'India',\n",
              "  'Language': 'Hindi',\n",
              "  'Budget': '₹240 crore',\n",
              "  'Box office': '₹1,050.3 crore'},\n",
              " {'title': 'Animal',\n",
              "  'Directed by': 'Sandeep Reddy Vanga',\n",
              "  'Screenplay by': 'Sandeep Reddy VangaPranay Reddy VangaSuresh Bandaru',\n",
              "  'Story by': 'Sandeep Reddy Vanga',\n",
              "  'Dialogues by': 'Saurabh Gupta',\n",
              "  'Produced by': 'Bhushan KumarPranay Reddy Vanga  Krishan KumarMurad Khetani',\n",
              "  'Starring': 'Ranbir Kapoor\\nAnil Kapoor\\nBobby Deol\\nRashmika Mandanna\\nTriptii Dimri',\n",
              "  'Cinematography': 'Amit Roy',\n",
              "  'Edited by': 'Sandeep Reddy Vanga',\n",
              "  'Music by': 'Songs: JAM8Vishal Mishra JaaniManan BhardwajShreyas PuranikAshim KemsonHarshavardhan RameshwarA.R. Rahman  Bhupinder BabbalBackground Score:Harshavardhan Rameshwar',\n",
              "  'Productioncompanies': 'T-Series Films\\nBhadrakali Pictures\\nCine1 Studios',\n",
              "  'Distributed by': 'AA Films Sri Venkateswara Creations AP International E4 Entertainment KVN Productions',\n",
              "  'Release date': '01 December 2023',\n",
              "  'Running time': 201,\n",
              "  'Country': 'India',\n",
              "  'Language': 'Hindi',\n",
              "  'Budget': '₹100 crore',\n",
              "  'Box office': '₹915.53 crore'},\n",
              " {'title': 'Gadar 2',\n",
              "  'Directed by': 'Anil Sharma',\n",
              "  'Written by': 'Shaktimaan Talwar',\n",
              "  'Produced by': 'Anil SharmaKamal Mukut',\n",
              "  'Starring': 'Sunny DeolAmeesha PatelUtkarsh SharmaGaurav ChopraManish WadhwaSimrat Kaur',\n",
              "  'Narrated by': 'Nana Patekar',\n",
              "  'Cinematography': 'Najeeb Khan',\n",
              "  'Edited by': 'Ashfaque MakraniSanjay Sankla',\n",
              "  'Music by': 'Songs:MithoonUttam SinghMonty SharmaBackground Score:Monty Sharma',\n",
              "  'Productioncompanies': 'Zee StudiosAnil Sharma ProductionsMM Movies',\n",
              "  'Distributed by': 'Zee Studios',\n",
              "  'Release date': '11 August 2023',\n",
              "  'Running time': 170,\n",
              "  'Country': 'India',\n",
              "  'Language': 'Hindi',\n",
              "  'Budget': '₹60 crore',\n",
              "  'Box office': '₹691.08 crore'},\n",
              " {'title': 'Tiger 3',\n",
              "  'Directed by': 'Maneesh Sharma',\n",
              "  'Screenplay by': 'Shridhar Raghavan',\n",
              "  'Dialogues by': 'Anckur Chaudhry',\n",
              "  'Story by': 'Aditya Chopra',\n",
              "  'Produced by': 'Aditya Chopra',\n",
              "  'Starring': 'Salman KhanKatrina KaifEmraan Hashmi',\n",
              "  'Cinematography': 'Anay Goswamy',\n",
              "  'Edited by': 'Rameshwar S. Bhagat',\n",
              "  'Music by': 'Songs:PritamScore:Tanuj Tiku',\n",
              "  'Productioncompany': 'Yash Raj Films',\n",
              "  'Distributed by': 'Yash Raj Films',\n",
              "  'Release dates': ['11 November 2023', '12 November 2023'],\n",
              "  'Running time': 156,\n",
              "  'Country': 'India',\n",
              "  'Language': 'Hindi',\n",
              "  'Budget': '₹300 crore',\n",
              "  'Box office': '₹466.63 crore'},\n",
              " {'title': 'Dunki',\n",
              "  'Directed by': 'Rajkumar Hirani',\n",
              "  'Written by': 'Rajkumar Hirani\\nAbhijat Joshi\\nKanika Dhillon',\n",
              "  'Produced by': 'Jyoti Deshpande\\nGauri Khan\\nRajkumar Hirani',\n",
              "  'Starring': 'Shah Rukh Khan\\nTaapsee Pannu\\nVicky Kaushal\\nBoman Irani',\n",
              "  'Cinematography': 'C. K. MuraleedharanManush NandanAmit Roy',\n",
              "  'Edited by': 'Rajkumar Hirani',\n",
              "  'Music by': 'Songs:PritamScore:Aman Pant',\n",
              "  'Productioncompanies': 'Jio Studios\\nRed Chillies Entertainment\\nRajkumar Hirani Films',\n",
              "  'Distributed by': 'see below',\n",
              "  'Release date': '21 December 2023',\n",
              "  'Running time': 161,\n",
              "  'Country': 'India',\n",
              "  'Language': 'Hindi',\n",
              "  'Budget': '₹120 crore',\n",
              "  'Box office': '₹460.11 crore'},\n",
              " {'title': 'Rocky Aur Rani Kii Prem Kahaani',\n",
              "  'Directed by': 'Karan Johar',\n",
              "  'Written by': 'Ishita MoitraShashank KhaitanSumit Roy',\n",
              "  'Produced by': 'Hiroo Yash JoharKaran JoharApoorva Mehta',\n",
              "  'Starring': 'DharmendraJaya BachchanShabana AzmiRanveer SinghAlia Bhatt',\n",
              "  'Cinematography': 'Manush Nandan',\n",
              "  'Edited by': 'Nitin Baid',\n",
              "  'Music by': 'Pritam',\n",
              "  'Productioncompanies': 'Dharma ProductionsViacom18 Studios',\n",
              "  'Distributed by': 'Viacom18 Studios',\n",
              "  'Release date': '28 July 2023',\n",
              "  'Running time': 168,\n",
              "  'Country': 'India',\n",
              "  'Language': 'Hindi',\n",
              "  'Budget': '₹160 crore',\n",
              "  'Box office': '₹355.61 crore'},\n",
              " {'title': 'Adipurush',\n",
              "  'Directed by': 'Om Raut',\n",
              "  'Written by': 'Screenplay:Om RautDialogues:Manoj Muntashir',\n",
              "  'Based on': 'Ramayanaby Valmiki',\n",
              "  'Produced by': 'Bhushan KumarKrishan KumarOm RautPrasad SutarRajesh Nair',\n",
              "  'Starring': 'Prabhas\\nKriti Sanon\\nSaif Ali Khan\\nSunny Singh\\nDevdatta Nage',\n",
              "  'Cinematography': 'Karthik Palani',\n",
              "  'Edited by': 'Apurva MotiwaleAshish Mhatre',\n",
              "  'Music by': 'Score:Sanchit BalharaAnkit BalharaSongs:Ajay-AtulSachet–Parampara',\n",
              "  'Productioncompanies': 'T-Series FilmsRetrophiles',\n",
              "  'Distributed by': 'AA Films (Hindi)UV Creations (Telugu)People Media Factory (Telugu)KRG Studios (Kannada)',\n",
              "  'Release date': '16 June 2023',\n",
              "  'Running time': 179,\n",
              "  'Country': 'India',\n",
              "  'Languages': 'HindiTelugu',\n",
              "  'Budget': '₹600.0 crore',\n",
              "  'Box office': '₹354 crore'},\n",
              " {'title': 'The Kerala Story',\n",
              "  'Directed by': 'Sudipto Sen',\n",
              "  'Written by': 'Suryapal SinghSudipto SenVipul Amrutlal Shah',\n",
              "  'Produced by': 'Vipul Amrutlal Shah',\n",
              "  'Starring': 'Adah SharmaYogita BihaniSonia BalaniSiddhi Idnani',\n",
              "  'Cinematography': 'Prasantanu Mohapatra',\n",
              "  'Edited by': 'Sanjay Sharma',\n",
              "  'Music by': 'Viresh SreevalsaBishakh Jyoti',\n",
              "  'Productioncompany': 'Sunshine Pictures',\n",
              "  'Release date': '05 May 2023',\n",
              "  'Running time': 138,\n",
              "  'Country': 'India',\n",
              "  'Language': 'Hindi',\n",
              "  'Budget': '₹17.5 crore',\n",
              "  'Box office': '₹303.97 crore'},\n",
              " {'title': 'OMG 2',\n",
              "  'Directed by': 'Amit Rai',\n",
              "  'Written by': 'Amit Rai',\n",
              "  'Produced by': 'Aruna BhatiaVipul D. ShahRajesh BahlAshwin Varde',\n",
              "  'Starring': 'Akshay Kumar Pankaj TripathiYami Gautam Dhar',\n",
              "  'Cinematography': 'Amalendu Chaudhary',\n",
              "  'Edited by': 'Suvir Nath',\n",
              "  'Music by': 'Vikram MontroseHansraj RaghuwanshiDjstringsPranaaySandesh Shandilya',\n",
              "  'Productioncompanies': 'Cape of Good FilmsViacom18 StudiosWakaoo Films',\n",
              "  'Distributed by': 'Viacom18 Studios',\n",
              "  'Release date': '11 August 2023',\n",
              "  'Running time': 155,\n",
              "  'Country': 'India',\n",
              "  'Language': 'Hindi',\n",
              "  'Budget': '₹50 crore',\n",
              "  'Box office': '₹221.08 crore'}]"
            ]
          },
          "metadata": {},
          "execution_count": 37
        }
      ]
    },
    {
      "cell_type": "markdown",
      "source": [
        "**SORT MOVIES BASED ON RUNNING TIME**"
      ],
      "metadata": {
        "id": "9IvV1XPtICHv"
      }
    },
    {
      "cell_type": "code",
      "source": [
        "#ascending order of running time\n",
        "asc_running_time = sorted(movie_info_list, key=lambda x: x['Running time'])\n",
        "# asc_running_time"
      ],
      "metadata": {
        "id": "XNUDpYDAIp6s"
      },
      "execution_count": null,
      "outputs": []
    },
    {
      "cell_type": "markdown",
      "source": [
        "**SORT MOVIES BASED ON BOX OFFICE COLLECTION**"
      ],
      "metadata": {
        "id": "i5kDEt8fIH16"
      }
    },
    {
      "cell_type": "code",
      "source": [
        "#ascending order of box office collection\n",
        "def extract_numeric_value(box_office_str):\n",
        "    match = re.search(r'₹([\\d.]+) crore', box_office_str)\n",
        "    return float(match.group(1)) if match else float('inf')  # Use infinity for entries with no valid numeric value\n",
        "\n",
        "# Extract the numeric part, convert to float, and sort the list based on the numeric values\n",
        "asc_box_office = sorted(movie_info_list, key=lambda x: extract_numeric_value(x['Box office']))\n",
        "#asc_box_office\n"
      ],
      "metadata": {
        "id": "agQKYJieKc_4"
      },
      "execution_count": null,
      "outputs": []
    },
    {
      "cell_type": "markdown",
      "source": [
        "# **NOTE: GUI IS MADE IN \"SPYDER\" IDE USING TKINTER**"
      ],
      "metadata": {
        "id": "dau7gRFCIO-W"
      }
    }
  ]
}